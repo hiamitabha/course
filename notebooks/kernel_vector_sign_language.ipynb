{
  "nbformat": 4,
  "nbformat_minor": 0,
  "metadata": {
    "kernelspec": {
      "name": "python3",
      "display_name": "Python 3"
    },
    "language_info": {
      "codemirror_mode": {
        "name": "ipython",
        "version": 3
      },
      "file_extension": ".py",
      "mimetype": "text/x-python",
      "name": "python",
      "nbconvert_exporter": "python",
      "pygments_lexer": "ipython3",
      "version": "3.6.6"
    },
    "colab": {
      "name": "kernel-vector-sign-language.ipynb",
      "provenance": [],
      "collapsed_sections": [],
      "include_colab_link": true
    },
    "accelerator": "GPU"
  },
  "cells": [
    {
      "cell_type": "markdown",
      "metadata": {
        "id": "view-in-github",
        "colab_type": "text"
      },
      "source": [
        "<a href=\"https://colab.research.google.com/github/hiamitabha/course/blob/master/kernel_vector_sign_language.ipynb\" target=\"_parent\"><img src=\"https://colab.research.google.com/assets/colab-badge.svg\" alt=\"Open In Colab\"/></a>"
      ]
    },
    {
      "cell_type": "markdown",
      "metadata": {
        "id": "PihERIiMpiek",
        "colab_type": "text"
      },
      "source": [
        "Choose _DEVICE out of CPU, GPU, TPU.\n",
        "\n",
        "Choose _MODEL out of Convolution Neural Network (CNN) or RESNET (Resnet-50 available in Keras)\n",
        "\n",
        "Choose _OPTIMZER out of all the optimizers available in Keras: SGD, RMSprop, Adagrad, Adadelta, Adam, AdaMax, Nadam."
      ]
    },
    {
      "cell_type": "code",
      "metadata": {
        "id": "jARBqQIbIlVA",
        "colab_type": "code",
        "colab": {}
      },
      "source": [
        "_DEVICE = \"GPU\"\n",
        "_MODEL = \"CNN\"\n",
        "_OPTIMIZER = \"SGD\""
      ],
      "execution_count": 0,
      "outputs": []
    },
    {
      "cell_type": "markdown",
      "metadata": {
        "id": "2TQq__pxBdZa",
        "colab_type": "text"
      },
      "source": [
        "Set up our run time environment."
      ]
    },
    {
      "cell_type": "code",
      "metadata": {
        "id": "pZfX4A_k1cyB",
        "colab_type": "code",
        "outputId": "d6994557-aafc-4a8f-ef0d-4897df1bc2e9",
        "colab": {
          "base_uri": "https://localhost:8080/",
          "height": 71
        }
      },
      "source": [
        "%tensorflow_version 2.x\n",
        "import tensorflow as tf\n",
        "print(\"Tensorflow version \" + tf.__version__)\n",
        "\n",
        "def get_gpu_device_name():\n",
        "    \"\"\"\n",
        "        Get the device name of a GPU device\n",
        "    \"\"\"\n",
        "    device_name = tf.test.gpu_device_name()\n",
        "    if device_name != '/device:GPU:0':\n",
        "        print (device_name) \n",
        "        raise SystemError('GPU device not found')\n",
        "    print('Found GPU at: {}'.format(device_name))\n",
        "    #GPU count and name\n",
        "    !nvidia-smi -L\n",
        "    return device_name\n",
        "\n",
        "def get_tpu_strategy():\n",
        "    \"\"\"\n",
        "        Get the tpu_strategy for a TPU\n",
        "    \"\"\"\n",
        "    try:\n",
        "        tpu = tf.distribute.cluster_resolver.TPUClusterResolver()  # TPU detection\n",
        "        print('Running on TPU ', tpu.cluster_spec().as_dict()['worker'])\n",
        "    except ValueError:\n",
        "        raise BaseException('ERROR: Not connected to a TPU runtime; please see the previous cell in this notebook for instructions!')\n",
        "\n",
        "    tf.config.experimental_connect_to_cluster(tpu)\n",
        "    tf.tpu.experimental.initialize_tpu_system(tpu)\n",
        "    tpu_strategy = tf.distribute.experimental.TPUStrategy(tpu)\n",
        "    return tpu_strategy\n",
        "\n",
        "if _DEVICE == \"TPU\":\n",
        "    device_name = 'tpu'\n",
        "    tpu_strategy = get_tpu_strategy()\n",
        "elif _DEVICE == \"GPU\":\n",
        "    device_name = get_gpu_device_name()\n",
        "elif _DEVICE == \"CPU\":\n",
        "    device_name = '/cpu:0'\n",
        "else:\n",
        "    print (\"Incorrect device option\")"
      ],
      "execution_count": 2,
      "outputs": [
        {
          "output_type": "stream",
          "text": [
            "Tensorflow version 2.2.0-rc2\n",
            "Found GPU at: /device:GPU:0\n",
            "GPU 0: Tesla P100-PCIE-16GB (UUID: GPU-a346d6bb-1140-4615-f38f-74a01d8ef0fa)\n"
          ],
          "name": "stdout"
        }
      ]
    },
    {
      "cell_type": "code",
      "metadata": {
        "id": "w6MhmZFU1cx-",
        "colab_type": "code",
        "colab": {}
      },
      "source": [
        "try:\n",
        "    import tensorflow.keras\n",
        "    from tensorflow.keras.layers import Conv2D, Dense, Dropout, Flatten, MaxPooling2D, GlobalAveragePooling2D\n",
        "    from tensorflow.keras.models import Sequential, Model, model_from_json\n",
        "    from tensorflow.keras.preprocessing.image import img_to_array\n",
        "    from tensorflow.keras import applications\n",
        "    from tensorflow.keras.callbacks import EarlyStopping\n",
        "except ImportError as exc:\n",
        "    sys.exit(\"No keras\")"
      ],
      "execution_count": 0,
      "outputs": []
    },
    {
      "cell_type": "code",
      "metadata": {
        "_cell_guid": "b1076dfc-b9ad-4769-8c92-a6c4dae69d19",
        "_uuid": "8f2839f25d086af736a60e9eeb907d3b93b6e0e5",
        "id": "B6KdzfIl1cx4",
        "colab_type": "code",
        "colab": {}
      },
      "source": [
        "# This Python 3 environment comes with many helpful analytics libraries installed\n",
        "# It is defined by the kaggle/python docker image: https://github.com/kaggle/docker-python\n",
        "# For example, here's several helpful packages to load in \n",
        "\n",
        "import numpy as np # linear algebra\n",
        "import pandas as pd # data processing, CSV file I/O (e.g. pd.read_csv)\n",
        "\n",
        "# Input data files are available in the \"../input/\" directory.\n",
        "# For example, running this (by clicking run or pressing Shift+Enter) will list all files under the input directory\n",
        "\n",
        "import os\n",
        "\n",
        "# Any results you write to the current directory are saved as output."
      ],
      "execution_count": 0,
      "outputs": []
    },
    {
      "cell_type": "code",
      "metadata": {
        "id": "scXX6GW91cx7",
        "colab_type": "code",
        "colab": {}
      },
      "source": [
        "try:\n",
        "    from PIL import Image\n",
        "except ImportError:\n",
        "    sys.exit(\"Cannot import from PIL: Do `pip3 install --user Pillow` to install\")"
      ],
      "execution_count": 0,
      "outputs": []
    },
    {
      "cell_type": "code",
      "metadata": {
        "id": "5AqIBytu1cyD",
        "colab_type": "code",
        "colab": {}
      },
      "source": [
        "try:\n",
        "    from sklearn.model_selection import train_test_split\n",
        "except ImportError as exc:\n",
        "    sys.exit(\"Cannot import scikit\")"
      ],
      "execution_count": 0,
      "outputs": []
    },
    {
      "cell_type": "code",
      "metadata": {
        "id": "_E4o-QLv1cyF",
        "colab_type": "code",
        "colab": {}
      },
      "source": [
        "class NetworkConstants():  # pylint: disable=too-few-public-methods\n",
        "    \"\"\"Constant values used as image and network parameters.\"\"\"\n",
        "\n",
        "    # Width of images passed to the network\n",
        "    IMAGE_WIDTH: int = 200\n",
        "\n",
        "    # Height of images passed to the network\n",
        "    IMAGE_HEIGHT: int = 200\n",
        "\n",
        "    # Currently set to 2 alphabet images and 1 background image class\n",
        "    # Number of classes that the network can categorize\n",
        "    NUM_CLASSES: int = 27\n",
        "\n",
        "    # The fraction of images passed to the network during training that should\n",
        "    # be used as a validation set. Range: 0 to 1\n",
        "    VALIDATION_SPLIT: float = 0.2\n",
        "\n",
        "    # The fraction of images passed to the network during training that should\n",
        "    # be used as a test set. Range: 0 to 1\n",
        "    TEST_SPLIT: float = 0.1\n",
        "\n",
        "    # Number of epochs on which to train the network\n",
        "    EPOCHS: int = 20\n"
      ],
      "execution_count": 0,
      "outputs": []
    },
    {
      "cell_type": "code",
      "metadata": {
        "_cell_guid": "79c7e3d0-c299-4dcb-8224-4455121ee9b0",
        "_uuid": "d629ff2d2480ee46fbb7e2d37f6b5fab8052498a",
        "id": "zp3bD_-81cyI",
        "colab_type": "code",
        "colab": {}
      },
      "source": [
        "from zipfile import ZipFile\n",
        "import io\n",
        "class SignLanguageRecognizer():\n",
        "    \"\"\"Recognize sign language hand signals using Vector's camera feed.\n",
        "\n",
        "    A convolutional neural network is used to predict the hand signs.\n",
        "    The network is built with a Keras Sequential model with a TensorFlow backend.\n",
        "    \"\"\"\n",
        "\n",
        "    def __init__(self):\n",
        "        \"\"\"\n",
        "        device_name = tf.test.gpu_device_name()\n",
        "        if device_name != '/device:GPU:0':\n",
        "            print(\n",
        "               '\\n\\nThis error most likely means that this notebook is not '\n",
        "               'configured to use a GPU.  Change this in Notebook Settings via the '\n",
        "               'command palette (cmd/ctrl-shift-P) or the Edit menu.\\n\\n')\n",
        "            raise SystemError('GPU device not found')\n",
        "        \"\"\"\n",
        "        global _OPTIMIZER\n",
        "        self.training_images: np.ndarray = None\n",
        "        self.training_labels: np.ndarray = None\n",
        "        self.test_images: np.ndarray = None\n",
        "        self.test_labels: np.ndarray = None\n",
        "        self.model: tf.keras.engine.sequential.Sequential = None\n",
        "        self.graph: tf.python.framework.ops.Graph = tf.compat.v1.get_default_graph()\n",
        "        # List of optimizers and their default values chosen from Keras documentation at\n",
        "        # https://keras.io/optimizers/\n",
        "        self.setOptimizer(_OPTIMIZER)\n",
        "\n",
        "    def setOptimizer(self, optimizer):\n",
        "        if optimizer == \"SGD\":\n",
        "            self.optimizer = tf.keras.optimizers.SGD(lr=0.01, decay=1e-6, momentum=0.9, nesterov=True)\n",
        "        elif optimizer == \"Adam\":\n",
        "            self.optimizer = tf.keras.optimizers.Adamax(learning_rate=0.002, beta_1=0.9, beta_2=0.999)\n",
        "        elif optimizer == \"RMSprop\":\n",
        "            self.optimizer = tf.keras.optimizers.RMSprop(learning_rate=0.001, rho=0.9)\n",
        "        elif optimizer == \"Adagrad\":\n",
        "            self.optimizer = tf.keras.optimizers.Adagrad(learning_rate=0.01)\n",
        "        elif optimizer == \"Adadelta\":\n",
        "            self.optimizer = tf.keras.optimizers.Adadelta(learning_rate=1.0, rho=0.95)\n",
        "        elif optimizer == \"Adamax\":\n",
        "            self.optimizer = keras.optimizers.Adamax(learning_rate=0.002, beta_1=0.9, beta_2=0.999)\n",
        "        elif optimizer == \"Nadam\":\n",
        "            self.optimizer = keras.optimizers.Nadam(learning_rate=0.002, beta_1=0.9, beta_2=0.999)\n",
        "    \n",
        "    def load_datasets(self, datasetFile) -> None:\n",
        "        \"\"\"Load the training and test datasets required to train the model.\n",
        "  \n",
        "        \"\"\"\n",
        "\n",
        "        if not dataset:\n",
        "            sys.exit(\"Cannot load dataset.\")\n",
        "\n",
        "        images = []\n",
        "        labels = []\n",
        "        countLabels = dict()\n",
        "        count = 0\n",
        "        with ZipFile(datasetFile) as archive:\n",
        "            for entry in archive.infolist():\n",
        "                filename = entry.filename.split('/')[-1]\n",
        "                if filename.endswith(\".png\") and not filename.startswith(\".\"):\n",
        "                   count += 1\n",
        "                   #if (count % 4 == 0):\n",
        "                   #    continue\n",
        "                   image_data = archive.read(entry.filename)\n",
        "                   data = io.BytesIO(image_data)\n",
        "                   image = Image.open(data)\n",
        "                   if image:    \n",
        "                       # Convert image to an array with shape (image_width, image_height, 1)\n",
        "                       image_data = img_to_array(image)\n",
        "                       images.append(image_data)\n",
        "\n",
        "                       if filename.startswith(\"background\"):\n",
        "                           # Use the last class to denote an unknown/background image\n",
        "                           label = NetworkConstants.NUM_CLASSES - 1\n",
        "                       else:\n",
        "                           # Use ordinal value offsets to denote labels for all alphabets\n",
        "                           label = ord(filename[0]) - 97\n",
        "\n",
        "                       labels.append(label)\n",
        "                       if countLabels.get(chr(label + 97)) is not None:\n",
        "                           countLabels[chr(label + 97)] += 1\n",
        "                       else:\n",
        "                           countLabels[chr(label + 97)] = 1\n",
        "                   else:\n",
        "                       print (\"Not using this file\")\n",
        "                       continue\n",
        "                   \n",
        "\n",
        "        print (\"Here is a count of labels from our repository\")\n",
        "        print (countLabels)\n",
        "        # Normalize the image data\n",
        "        images = np.array(images, dtype=\"float\") / 255.0\n",
        "        # Convert labels to a numpy array\n",
        "        labels = np.array(labels)\n",
        "\n",
        "        # Split data read in to training and test segments\n",
        "        self.training_images, self.test_images, self.training_labels, self.test_labels = train_test_split(images, labels, \n",
        "                                                                                                          test_size=NetworkConstants.TEST_SPLIT)\n",
        "\n",
        "        # Convert array of labels in to binary classs matrix\n",
        "        self.training_labels = tf.keras.utils.to_categorical(self.training_labels, num_classes=NetworkConstants.NUM_CLASSES)\n",
        "        self.test_labels = tf.keras.utils.to_categorical(self.test_labels, num_classes=NetworkConstants.NUM_CLASSES)\n",
        "    \n",
        "    def create_cnn_model(self) -> None:\n",
        "        \"\"\"Creates a convolutional neural network model with the following architecture:\n",
        "\n",
        "        ConvLayer -> MaxPoolLayer -> ConvLayer -> MaxPoolLayer -> ConvLayer ->\n",
        "        Dropout -> Flatten -> Dense -> Dropout -> Dense\n",
        "\n",
        "        .. code-block:: python\n",
        "\n",
        "            recognizer = SignLanguageRecognizer()\n",
        "            recognizer.load_datasets(\"/path/to/dataset_root_folder\")\n",
        "            recognizer.create_model()\n",
        "        \"\"\"\n",
        "        self.model = Sequential()\n",
        "        self.model.add(Conv2D(32, kernel_size=(3, 3), activation=\"relu\", input_shape=(NetworkConstants.IMAGE_WIDTH, \n",
        "                                                                                      NetworkConstants.IMAGE_HEIGHT, 1)))\n",
        "        self.model.add(MaxPooling2D(pool_size=(2, 2)))\n",
        "        self.model.add(Conv2D(64, kernel_size=(3, 3), activation=\"relu\"))\n",
        "        self.model.add(MaxPooling2D(pool_size=(2, 2)))\n",
        "        self.model.add(Conv2D(64, kernel_size=(3, 3), activation=\"relu\"))\n",
        "\n",
        "        self.model.add(Dropout(0.25))\n",
        "        self.model.add(Flatten())\n",
        "\n",
        "        self.model.add(Dense(128, activation=\"relu\"))\n",
        "        self.model.add(Dropout(0.5))\n",
        "        self.model.add(Dense(NetworkConstants.NUM_CLASSES, activation=\"softmax\"))\n",
        "\n",
        "        \n",
        "        self.model.compile(loss=tf.keras.losses.categorical_crossentropy,\n",
        "                            optimizer=self.optimizer,\n",
        "                            metrics=['accuracy'])\n",
        "        self.model.summary()\n",
        "    \n",
        "    def create_resnet_model(self) -> None:\n",
        "        base_model = applications.resnet50.ResNet50(weights= None, include_top=False, input_shape=(NetworkConstants.IMAGE_WIDTH, \n",
        "                                                                                      NetworkConstants.IMAGE_HEIGHT, 1))\n",
        "        x = base_model.output\n",
        "        x = GlobalAveragePooling2D()(x)\n",
        "        x = Dropout(0.25)(x)\n",
        "        predictions = Dense(NetworkConstants.NUM_CLASSES, activation= 'softmax')(x)\n",
        "        self.model = Model(inputs = base_model.input, outputs = predictions)\n",
        "        self.model.compile(optimizer=self.optimizer, loss='categorical_crossentropy', metrics=['accuracy'])\n",
        "        self.model.summary()\n",
        "\n",
        "    def train_model(self, epochs: int = NetworkConstants.EPOCHS, verbosity: int = 1) -> None:\n",
        "        \"\"\"Trains the model off of the training and test data provided\n",
        "\n",
        "        .. code-block:: python\n",
        "\n",
        "            recognizer = SignLanguageRecognizer()\n",
        "            recognizer.load_datasets(\"/path/to/dataset_root_folder\")\n",
        "            recognizer.create_model()\n",
        "            recognizer.train_model()\n",
        "        \"\"\"\n",
        "\n",
        "        if self.training_images.size == 0 or self.training_labels.size == 0:\n",
        "            sys.exit(\"Training dataset is empty. Build a dataset with `data_gen.py` before training the model.\")\n",
        "        es = EarlyStopping(monitor='val_loss', mode='min', verbose=1, patience=10)\n",
        "        history = self.model.fit(self.training_images,\n",
        "                       self.training_labels,\n",
        "                       epochs=epochs,\n",
        "                       verbose=verbosity,\n",
        "                       validation_split=NetworkConstants.VALIDATION_SPLIT,\n",
        "                       callbacks=[es])\n",
        "        return history\n",
        "      \n",
        "    \n",
        "    def save_model(self, model_config_filename: str, model_weights_filename: str) -> None:\n",
        "        \"\"\"Saves a model's config and weights for latter use.\n",
        "\n",
        "        .. code-block:: python\n",
        "\n",
        "            recognizer = SignLanguageRecognizer()\n",
        "            recognizer.load_datasets(args.dataset_root_folder)\n",
        "            recognizer.create_model()\n",
        "            recognizer.train_model()\n",
        "            recognizer.save_model(\"/path/to/model_config_filename\", \"/path/to/model_weights_filename\")\n",
        "        \"\"\"\n",
        "        json_model = self.model.to_json()\n",
        "        # Save the network architecture\n",
        "        with open(model_config_filename, \"w\") as file:\n",
        "            file.write(json_model)\n",
        "        # Save the model's assigned weights\n",
        "        self.model.save_weights(model_weights_filename)\n",
        "\n",
        "    def printme(self):\n",
        "        print (self.training_images[0])\n",
        "        \n",
        "    "
      ],
      "execution_count": 0,
      "outputs": []
    },
    {
      "cell_type": "code",
      "metadata": {
        "id": "dG8I6zEjY7IZ",
        "colab_type": "code",
        "outputId": "adbdbd4e-1aaf-40b5-a2b3-b3ff89ec2a36",
        "colab": {
          "base_uri": "https://localhost:8080/",
          "height": 127
        }
      },
      "source": [
        "from google.colab import drive\n",
        "drive.mount('/content/drive')"
      ],
      "execution_count": 9,
      "outputs": [
        {
          "output_type": "stream",
          "text": [
            "Go to this URL in a browser: https://accounts.google.com/o/oauth2/auth?client_id=947318989803-6bn6qk8qdgf4n4g3pfee6491hc0brc4i.apps.googleusercontent.com&redirect_uri=urn%3aietf%3awg%3aoauth%3a2.0%3aoob&response_type=code&scope=email%20https%3a%2f%2fwww.googleapis.com%2fauth%2fdocs.test%20https%3a%2f%2fwww.googleapis.com%2fauth%2fdrive%20https%3a%2f%2fwww.googleapis.com%2fauth%2fdrive.photos.readonly%20https%3a%2f%2fwww.googleapis.com%2fauth%2fpeopleapi.readonly\n",
            "\n",
            "Enter your authorization code:\n",
            "··········\n",
            "Mounted at /content/drive\n"
          ],
          "name": "stdout"
        }
      ]
    },
    {
      "cell_type": "code",
      "metadata": {
        "id": "coQlecBqZIcn",
        "colab_type": "code",
        "outputId": "256e3151-fdb7-4e11-991f-308ca9b6eaef",
        "colab": {
          "base_uri": "https://localhost:8080/",
          "height": 55
        }
      },
      "source": [
        "\n",
        "dataset = '/content/drive/My Drive/training-a-robot-to-understand-sign-language.zip'\n",
        "stats = os.stat(dataset)\n",
        "\n",
        "print (stats)\n"
      ],
      "execution_count": 10,
      "outputs": [
        {
          "output_type": "stream",
          "text": [
            "os.stat_result(st_mode=33152, st_ino=70, st_dev=81, st_nlink=1, st_uid=0, st_gid=0, st_size=133773677, st_atime=1585121187, st_mtime=1585034302, st_ctime=1585034302)\n"
          ],
          "name": "stdout"
        }
      ]
    },
    {
      "cell_type": "code",
      "metadata": {
        "id": "MEr_08NcsleB",
        "colab_type": "code",
        "outputId": "4234f62f-cde0-4a3d-ac34-5f0314d79e92",
        "colab": {
          "base_uri": "https://localhost:8080/",
          "height": 73
        }
      },
      "source": [
        "import timeit\n",
        "recognizer = SignLanguageRecognizer()\n",
        "recognizer.load_datasets(dataset)"
      ],
      "execution_count": 11,
      "outputs": [
        {
          "output_type": "stream",
          "text": [
            "Here is a count of labels from our repository\n",
            "{'a': 380, 'b': 490, '{': 460, 'c': 380, 'd': 290, 'e': 270, 'f': 340, 'g': 300, 'h': 350, 'i': 350, 'k': 360, 'l': 330, 'm': 610, 'n': 340, 'o': 370, 'p': 260, 'q': 180, 'r': 320, 's': 230, 't': 260, 'u': 329, 'v': 309, 'w': 319, 'x': 279, 'y': 370}\n"
          ],
          "name": "stdout"
        }
      ]
    },
    {
      "cell_type": "code",
      "metadata": {
        "id": "xDeyHK3bz7-p",
        "colab_type": "code",
        "colab": {}
      },
      "source": [
        "def train_and_evaluate(recognizer, model=\"CNN\"):\n",
        "    if model == \"RESNET\":\n",
        "        print (\"Building RESNET\")\n",
        "        recognizer.create_resnet_model()\n",
        "    else:\n",
        "        recognizer.create_cnn_model()\n",
        "    starttime = timeit.default_timer()\n",
        "    history = recognizer.train_model()\n",
        "    print(\"The time difference is :\", timeit.default_timer() - starttime)\n",
        "    test_score = recognizer.model.evaluate(recognizer.test_images, recognizer.test_labels, verbose=1)\n",
        "    print(f\"{recognizer.model.metrics_names[1].capitalize()}: {test_score[1] * 100}%\")\n",
        "    return history\n"
      ],
      "execution_count": 0,
      "outputs": []
    },
    {
      "cell_type": "code",
      "metadata": {
        "id": "AhTlb4BY1cyL",
        "colab_type": "code",
        "colab": {}
      },
      "source": [
        "def pipeline(model):\n",
        "    \"\"\"\n",
        "        Execute the deep learning pipeline\n",
        "    \"\"\"\n",
        "    history = None\n",
        "    if _DEVICE == \"TPU\":\n",
        "        with tpu_strategy.scope():\n",
        "            history = train_and_evaluate(recognizer, model)\n",
        "    elif _DEVICE == \"GPU\":\n",
        "        with tf.device('/device:GPU:0'):\n",
        "            history = train_and_evaluate(recognizer, model)\n",
        "    elif _DEVICE == \"CPU\":\n",
        "        with tf.device('/cpu:0'):\n",
        "            history = train_and_evaluate(recognizer, model)\n",
        "    else:\n",
        "        print (\"Nothing to do!\")\n",
        "    return history"
      ],
      "execution_count": 0,
      "outputs": []
    },
    {
      "cell_type": "code",
      "metadata": {
        "id": "OQNnsvT3zwNu",
        "colab_type": "code",
        "outputId": "d5ca088a-2a3e-4134-8bdc-6e82595dee15",
        "colab": {
          "base_uri": "https://localhost:8080/",
          "height": 1000
        }
      },
      "source": [
        "history = pipeline(_MODEL)"
      ],
      "execution_count": 14,
      "outputs": [
        {
          "output_type": "stream",
          "text": [
            "Model: \"sequential\"\n",
            "_________________________________________________________________\n",
            "Layer (type)                 Output Shape              Param #   \n",
            "=================================================================\n",
            "conv2d (Conv2D)              (None, 198, 198, 32)      320       \n",
            "_________________________________________________________________\n",
            "max_pooling2d (MaxPooling2D) (None, 99, 99, 32)        0         \n",
            "_________________________________________________________________\n",
            "conv2d_1 (Conv2D)            (None, 97, 97, 64)        18496     \n",
            "_________________________________________________________________\n",
            "max_pooling2d_1 (MaxPooling2 (None, 48, 48, 64)        0         \n",
            "_________________________________________________________________\n",
            "conv2d_2 (Conv2D)            (None, 46, 46, 64)        36928     \n",
            "_________________________________________________________________\n",
            "dropout (Dropout)            (None, 46, 46, 64)        0         \n",
            "_________________________________________________________________\n",
            "flatten (Flatten)            (None, 135424)            0         \n",
            "_________________________________________________________________\n",
            "dense (Dense)                (None, 128)               17334400  \n",
            "_________________________________________________________________\n",
            "dropout_1 (Dropout)          (None, 128)               0         \n",
            "_________________________________________________________________\n",
            "dense_1 (Dense)              (None, 27)                3483      \n",
            "=================================================================\n",
            "Total params: 17,393,627\n",
            "Trainable params: 17,393,627\n",
            "Non-trainable params: 0\n",
            "_________________________________________________________________\n",
            "Epoch 1/20\n",
            "191/191 [==============================] - 6s 31ms/step - loss: 2.8734 - accuracy: 0.1483 - val_loss: 2.3421 - val_accuracy: 0.3126\n",
            "Epoch 2/20\n",
            "191/191 [==============================] - 6s 29ms/step - loss: 2.4502 - accuracy: 0.2476 - val_loss: 2.4247 - val_accuracy: 0.3237\n",
            "Epoch 3/20\n",
            "191/191 [==============================] - 6s 30ms/step - loss: 2.6102 - accuracy: 0.2401 - val_loss: 2.3522 - val_accuracy: 0.3263\n",
            "Epoch 4/20\n",
            "191/191 [==============================] - 6s 30ms/step - loss: 2.4538 - accuracy: 0.2712 - val_loss: 2.1774 - val_accuracy: 0.3624\n",
            "Epoch 5/20\n",
            "191/191 [==============================] - 6s 29ms/step - loss: 2.3446 - accuracy: 0.3017 - val_loss: 2.0468 - val_accuracy: 0.3696\n",
            "Epoch 6/20\n",
            "191/191 [==============================] - 6s 30ms/step - loss: 2.2532 - accuracy: 0.3088 - val_loss: 1.8109 - val_accuracy: 0.4384\n",
            "Epoch 7/20\n",
            "191/191 [==============================] - 6s 30ms/step - loss: 2.0286 - accuracy: 0.3668 - val_loss: 1.3871 - val_accuracy: 0.5944\n",
            "Epoch 8/20\n",
            "191/191 [==============================] - 6s 30ms/step - loss: 1.3999 - accuracy: 0.5382 - val_loss: 0.5595 - val_accuracy: 0.8336\n",
            "Epoch 9/20\n",
            "191/191 [==============================] - 6s 30ms/step - loss: 0.9754 - accuracy: 0.6752 - val_loss: 0.3373 - val_accuracy: 0.8984\n",
            "Epoch 10/20\n",
            "191/191 [==============================] - 6s 29ms/step - loss: 0.7079 - accuracy: 0.7606 - val_loss: 0.2473 - val_accuracy: 0.9332\n",
            "Epoch 11/20\n",
            "191/191 [==============================] - 6s 29ms/step - loss: 0.5382 - accuracy: 0.8197 - val_loss: 0.1403 - val_accuracy: 0.9528\n",
            "Epoch 12/20\n",
            "191/191 [==============================] - 6s 29ms/step - loss: 0.4323 - accuracy: 0.8550 - val_loss: 0.1242 - val_accuracy: 0.9633\n",
            "Epoch 13/20\n",
            "191/191 [==============================] - 6s 29ms/step - loss: 0.3571 - accuracy: 0.8784 - val_loss: 0.0831 - val_accuracy: 0.9758\n",
            "Epoch 14/20\n",
            "191/191 [==============================] - 6s 29ms/step - loss: 0.2947 - accuracy: 0.9020 - val_loss: 0.0762 - val_accuracy: 0.9790\n",
            "Epoch 15/20\n",
            "191/191 [==============================] - 6s 29ms/step - loss: 0.2647 - accuracy: 0.9086 - val_loss: 0.0809 - val_accuracy: 0.9758\n",
            "Epoch 16/20\n",
            "191/191 [==============================] - 6s 29ms/step - loss: 0.2403 - accuracy: 0.9167 - val_loss: 0.0595 - val_accuracy: 0.9823\n",
            "Epoch 17/20\n",
            "191/191 [==============================] - 6s 29ms/step - loss: 0.2139 - accuracy: 0.9274 - val_loss: 0.0712 - val_accuracy: 0.9784\n",
            "Epoch 18/20\n",
            "191/191 [==============================] - 6s 29ms/step - loss: 0.1936 - accuracy: 0.9394 - val_loss: 0.0840 - val_accuracy: 0.9764\n",
            "Epoch 19/20\n",
            "191/191 [==============================] - 6s 29ms/step - loss: 0.1791 - accuracy: 0.9403 - val_loss: 0.0672 - val_accuracy: 0.9849\n",
            "Epoch 20/20\n",
            "191/191 [==============================] - 6s 29ms/step - loss: 0.1665 - accuracy: 0.9410 - val_loss: 0.0651 - val_accuracy: 0.9784\n",
            "The time difference is : 121.232079935\n",
            "27/27 [==============================] - 0s 12ms/step - loss: 0.0905 - accuracy: 0.9741\n",
            "Accuracy: 97.4056601524353%\n"
          ],
          "name": "stdout"
        }
      ]
    },
    {
      "cell_type": "code",
      "metadata": {
        "id": "XgM8SItB1cyN",
        "colab_type": "code",
        "outputId": "3bccd24b-1654-4c37-9066-eab43264abc6",
        "colab": {
          "base_uri": "https://localhost:8080/",
          "height": 295
        }
      },
      "source": [
        "import matplotlib.pyplot as plt\n",
        "\n",
        "# Plot training & validation accuracy values\n",
        "plt.plot(history.history['accuracy'])\n",
        "plt.plot(history.history['val_accuracy'])\n",
        "plt.title('Model accuracy')\n",
        "plt.ylabel('Accuracy')\n",
        "plt.xlabel('Epoch')\n",
        "plt.legend(['Train', 'Test'], loc='upper left')\n",
        "plt.show()\n",
        "\n"
      ],
      "execution_count": 15,
      "outputs": [
        {
          "output_type": "display_data",
          "data": {
            "image/png": "[encoded data removed]",
            "text/plain": [
              "<Figure size 432x288 with 1 Axes>"
            ]
          },
          "metadata": {
            "tags": []
          }
        }
      ]
    },
    {
      "cell_type": "code",
      "metadata": {
        "id": "UZ2NnqvzlONw",
        "colab_type": "code",
        "colab": {
          "base_uri": "https://localhost:8080/",
          "height": 295
        },
        "outputId": "c5fa6030-e89c-419c-c6d4-7ac127a65c44"
      },
      "source": [
        "# Plot training & validation loss values\n",
        "plt.plot(history.history['loss'])\n",
        "plt.plot(history.history['val_loss'])\n",
        "plt.title('Model loss')\n",
        "plt.ylabel('Loss')\n",
        "plt.xlabel('Epoch')\n",
        "plt.legend(['Train', 'Test'], loc='upper left')\n",
        "plt.show()"
      ],
      "execution_count": 16,
      "outputs": [
        {
          "output_type": "display_data",
          "data": {
            "image/png": "[encoded data removed]",
            "text/plain": [
              "<Figure size 432x288 with 1 Axes>"
            ]
          },
          "metadata": {
            "tags": []
          }
        }
      ]
    }
  ]
}